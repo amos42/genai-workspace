{
 "cells": [
  {
   "cell_type": "code",
   "execution_count": 1,
   "metadata": {},
   "outputs": [],
   "source": [
    "%%capture --no-stderr\n",
    "%pip install python-dotenv langchain langchain-community langchain-experimental langchain-openai networkx matplotlib"
   ]
  },
  {
   "cell_type": "code",
   "execution_count": 2,
   "metadata": {},
   "outputs": [
    {
     "data": {
      "text/plain": [
       "True"
      ]
     },
     "execution_count": 2,
     "metadata": {},
     "output_type": "execute_result"
    }
   ],
   "source": [
    "from dotenv import load_dotenv\n",
    "\n",
    "load_dotenv()"
   ]
  },
  {
   "cell_type": "code",
   "execution_count": 3,
   "metadata": {},
   "outputs": [],
   "source": [
    "import os\n",
    "#from langchain_google_vertexai import VertexAI \n",
    "#from langchain.llms import OpenAI\n",
    "from langchain_openai import ChatOpenAI\n",
    "\n",
    "#llm = VertexAI(max_output_tokens=4000,model_name='text-bison-32k')\n",
    "#llm = ChatOpenAI(model=\"gpt-4o\")  # 또는 gpt-4 등 사용할 모델명 지정\n",
    "llm = ChatOpenAI(model=os.getenv(\"OPENAI_API_MODEL\"))  # 또는 gpt-4 등 사용할 모델명 지정\n"
   ]
  },
  {
   "cell_type": "code",
   "execution_count": 4,
   "metadata": {},
   "outputs": [],
   "source": [
    "from langchain_core.documents import Document\n",
    "from langchain_experimental.graph_transformers import LLMGraphTransformer\n",
    "\n",
    "text = \"\"\"\n",
    "Marie Curie, born in 1867, was a Polish and naturalised-French physicist and chemist who conducted pioneering research on radioactivity.\n",
    "She was the first woman to win a Nobel Prize, the first person to win a Nobel Prize twice, and the only person to win a Nobel Prize in two scientific fields.\n",
    "Her husband, Pierre Curie, was a co-winner of her first Nobel Prize, making them the first-ever married couple to win the Nobel Prize and launching the Curie family legacy of five Nobel Prizes.\n",
    "She was, in 1906, the first woman to become a professor at the University of Paris. \n",
    "\"\"\"\n",
    "\n",
    "documents = [Document(page_content=text)]\n",
    "llm_transformer = LLMGraphTransformer(llm=llm)\n",
    "graph_documents = llm_transformer.convert_to_graph_documents(documents)\n",
    "\n",
    "llm_transformer_filtered = LLMGraphTransformer(\n",
    "    llm=llm,\n",
    "    allowed_nodes=[\"Person\", \"Country\", \"Organization\"],\n",
    "    allowed_relationships=[\"NATIONALITY\", \"LOCATED_IN\", \"WORKED_AT\", \"SPOUSE\"],\n",
    ")\n",
    "graph_documents_filtered = llm_transformer_filtered.convert_to_graph_documents(\n",
    "    documents\n",
    ")\n"
   ]
  },
  {
   "cell_type": "code",
   "execution_count": 5,
   "metadata": {},
   "outputs": [
    {
     "name": "stdout",
     "output_type": "stream",
     "text": [
      "* CREATE (:Person {\"id\":\"Marie Curie\",\"type\":\"Person\",\"properties\":{}})\n",
      "* CREATE (:Person {\"id\":\"Pierre Curie\",\"type\":\"Person\",\"properties\":{}})\n",
      "* CREATE (:Organization {\"id\":\"University Of Paris\",\"type\":\"Organization\",\"properties\":{}})\n",
      "* CREATE (:Organization {\"id\":\"Nobel Prize\",\"type\":\"Organization\",\"properties\":{}})\n",
      "* CREATE (:Country {\"id\":\"Poland\",\"type\":\"Country\",\"properties\":{}})\n",
      "* CREATE (:Country {\"id\":\"France\",\"type\":\"Country\",\"properties\":{}})\n",
      "* MERGE (Marie Curie) - [:WORKED_AT] -> (Nobel Prize)\n",
      "* MERGE (Marie Curie) - [:WORKED_AT] -> (University Of Paris)\n",
      "* MERGE (Marie Curie) - [:SPOUSE] -> (Pierre Curie)\n",
      "* MERGE (Pierre Curie) - [:SPOUSE] -> (Marie Curie)\n",
      "* MERGE (Marie Curie) - [:NATIONALITY] -> (Poland)\n",
      "* MERGE (Marie Curie) - [:NATIONALITY] -> (France)\n",
      "* MERGE (Marie Curie) - [:WORKED_AT] -> (Nobel Prize)\n"
     ]
    }
   ],
   "source": [
    "from langchain_community.graphs import NetworkxEntityGraph\n",
    "\n",
    "graph = NetworkxEntityGraph()\n",
    "\n",
    "# Add nodes to the graph\n",
    "for node in graph_documents_filtered[0].nodes:\n",
    "    print(f\"* CREATE (:{node.type} {node.model_dump_json()})\")\n",
    "    graph.add_node(node.id)\n",
    "\n",
    "# Add edges to the graph\n",
    "for edge in graph_documents_filtered[0].relationships:\n",
    "    print(f\"* MERGE ({edge.source.id}) - [:{edge.type}] -> ({edge.target.id})\")\n",
    "    graph._graph.add_edge(\n",
    "            edge.source.id,\n",
    "            edge.target.id,\n",
    "            relation=edge.type,\n",
    "        )"
   ]
  },
  {
   "cell_type": "code",
   "execution_count": 6,
   "metadata": {},
   "outputs": [
    {
     "data": {
      "image/png": "[encoded data removed]",
      "text/plain": [
       "<Figure size 640x480 with 1 Axes>"
      ]
     },
     "metadata": {},
     "output_type": "display_data"
    }
   ],
   "source": [
    "#from IPython.display import Image, display\n",
    "#display(Image(graph.draw_mermaid_png()))\n",
    "\n",
    "import networkx as nx\n",
    "import matplotlib.pyplot as plt\n",
    "\n",
    "g1 = graph._graph\n",
    "nx.draw(g1)\n",
    "plt.show()"
   ]
  },
  {
   "cell_type": "code",
   "execution_count": 7,
   "metadata": {},
   "outputs": [
    {
     "name": "stdout",
     "output_type": "stream",
     "text": [
      "\n",
      "\n",
      "\u001b[1m> Entering new GraphQAChain chain...\u001b[0m\n",
      "Entities Extracted:\n",
      "\u001b[32;1m\u001b[1;3mMarie Curie\u001b[0m\n",
      "Full Context:\n",
      "\u001b[32;1m\u001b[1;3mMarie Curie WORKED_AT Nobel Prize\n",
      "Marie Curie WORKED_AT University Of Paris\n",
      "Marie Curie SPOUSE Pierre Curie\n",
      "Marie Curie NATIONALITY Poland\n",
      "Marie Curie NATIONALITY France\u001b[0m\n",
      "\n",
      "\u001b[1m> Finished chain.\u001b[0m\n",
      "답변: Marie Curie was a Polish-French woman who worked at notable institutions such as the Nobel Prize and the University of Paris. She was married to Pierre Curie.\n"
     ]
    }
   ],
   "source": [
    "\n",
    "from langchain.chains import GraphQAChain\n",
    "\n",
    "chain = GraphQAChain.from_llm(\n",
    "    llm=llm, \n",
    "    graph=graph, \n",
    "    verbose=True\n",
    ")\n",
    "\n",
    "question = \"\"\"Who is Marie Curie?\"\"\"\n",
    "result = chain.invoke(question)\n",
    "\n",
    "print(\"답변:\", result[\"result\"])\n"
   ]
  }
 ],
 "metadata": {
  "kernelspec": {
   "display_name": "base",
   "language": "python",
   "name": "python3"
  },
  "language_info": {
   "codemirror_mode": {
    "name": "ipython",
    "version": 3
   },
   "file_extension": ".py",
   "mimetype": "text/x-python",
   "name": "python",
   "nbconvert_exporter": "python",
   "pygments_lexer": "ipython3",
   "version": "3.12.9"
  }
 },
 "nbformat": 4,
 "nbformat_minor": 2
}
